{
  "nbformat": 4,
  "nbformat_minor": 0,
  "metadata": {
    "colab": {
      "provenance": []
    },
    "kernelspec": {
      "name": "python3",
      "display_name": "Python 3"
    },
    "language_info": {
      "name": "python"
    }
  },
  "cells": [
    {
      "cell_type": "code",
      "execution_count": 72,
      "metadata": {
        "id": "74QCAmTeDDH2"
      },
      "outputs": [],
      "source": [
        "import pandas as pd\n",
        "import sklearn as sk\n",
        "from sklearn.neighbors import KNeighborsClassifier\n",
        "import cv2\n",
        "import numpy as np\n",
        "import os\n"
      ]
    },
    {
      "cell_type": "code",
      "source": [
        "def process_frames():\n",
        "  cap = cv2.VideoCapture(0)\n",
        "  while True:\n",
        "    ret, frame =cap.read()"
      ],
      "metadata": {
        "id": "zFwurh80Mg7v"
      },
      "execution_count": 94,
      "outputs": []
    },
    {
      "cell_type": "code",
      "source": [
        "if not ret:\n",
        "  print(\"Failed to capture image\")"
      ],
      "metadata": {
        "colab": {
          "base_uri": "https://localhost:8080/"
        },
        "id": "KALKQhpp9RTd",
        "outputId": "9bd8bad1-76f3-472d-fb11-f372ae23197e"
      },
      "execution_count": 97,
      "outputs": [
        {
          "output_type": "stream",
          "name": "stdout",
          "text": [
            "Failed to capture image\n"
          ]
        }
      ]
    },
    {
      "cell_type": "code",
      "source": [
        "classifier = cv2.CascadeClassifier(\"haarcascade_frontalface_deafault.xml\")"
      ],
      "metadata": {
        "id": "xQZUVPszLS6m"
      },
      "execution_count": 37,
      "outputs": []
    },
    {
      "cell_type": "code",
      "source": [
        "Nicolas_image = \"file:///C:/Users/kayla/Pictures/entertainment-2011-05-cage-match-nic-cage_300x430.webp\"\n",
        "image_size = (60, 60)\n",
        "n_neighbors = 5"
      ],
      "metadata": {
        "id": "80FmL3HyJiqa"
      },
      "execution_count": 43,
      "outputs": []
    },
    {
      "cell_type": "code",
      "source": [
        "def preprocessing_nicolas_image(Nicolas_image):\n",
        "  gray_nic = cv2.cvtColor(Nicolas_image, cv2.COLOR_BGR2GRAY)\n",
        "  resized = cv2.resize(gray_nic, image_size)\n",
        "  face_nic = classifier.detectMultiScale(gray_nic, scaleFactor=1.1, minNeighbors=5, minSize=(60, 60))"
      ],
      "metadata": {
        "id": "ZSXNhUkjgTEh"
      },
      "execution_count": 90,
      "outputs": []
    },
    {
      "cell_type": "code",
      "source": [
        "Bruce_image = \"file:///C:/Users/kayla/Pictures/BruceWillis-696x442.jpg\"\n",
        "n_neighbors = 5"
      ],
      "metadata": {
        "id": "73MKa5xlkaWr"
      },
      "execution_count": 66,
      "outputs": []
    },
    {
      "cell_type": "code",
      "source": [
        "def preprocessing_bruce_image(Bruce_image):\n",
        "  gray_bruce = cv2.cvtColor(Bruce_image, cv2.COLOR_BGR2GRAY)\n",
        "  resized = cv2.resize(gray_bruce, image_size)\n",
        "  face_bruce = classifier.detectMultiScale(gray_bruce, scaleFactor=1.1, minNeighbors=5, minSize=(60, 60))"
      ],
      "metadata": {
        "id": "gIf10WVnlQjN"
      },
      "execution_count": 88,
      "outputs": []
    },
    {
      "cell_type": "code",
      "source": [
        "John_image = \"file:///C:/Users/kayla/Pictures/s-l1200.jpg\"\n",
        "n_neigbors = 5"
      ],
      "metadata": {
        "id": "zI6LhDPvltl6"
      },
      "execution_count": 67,
      "outputs": []
    },
    {
      "cell_type": "code",
      "source": [
        "def preprocessing_bruce_image(John_image):\n",
        "  gray_john = cv2.cvtColor(John_image, cv2.COLOR_BGR2GRAY)\n",
        "  reseized = cv2.resize(gray_john, image_size)\n",
        "  face_john = classifier.detectMultiScale(gray_john, scaleFactor=1.1, minNeighbors=5, minSize=(60, 60))\n",
        ""
      ],
      "metadata": {
        "id": "heXyXfhLl9Dv"
      },
      "execution_count": 86,
      "outputs": []
    },
    {
      "cell_type": "code",
      "source": [
        "grouped_list = [face_nic, face_bruce, face_john]"
      ],
      "metadata": {
        "colab": {
          "base_uri": "https://localhost:8080/",
          "height": 141
        },
        "id": "9IbqeRH65acR",
        "outputId": "7c426928-f15a-4726-d241-7ded085a5b65"
      },
      "execution_count": 93,
      "outputs": [
        {
          "output_type": "error",
          "ename": "NameError",
          "evalue": "name 'face_nic' is not defined",
          "traceback": [
            "\u001b[0;31m---------------------------------------------------------------------------\u001b[0m",
            "\u001b[0;31mNameError\u001b[0m                                 Traceback (most recent call last)",
            "\u001b[0;32m<ipython-input-93-5dc877d6f448>\u001b[0m in \u001b[0;36m<cell line: 1>\u001b[0;34m()\u001b[0m\n\u001b[0;32m----> 1\u001b[0;31m \u001b[0mgrouped_list\u001b[0m \u001b[0;34m=\u001b[0m \u001b[0;34m[\u001b[0m\u001b[0mface_nic\u001b[0m\u001b[0;34m,\u001b[0m \u001b[0mface_bruce\u001b[0m\u001b[0;34m,\u001b[0m \u001b[0mface_john\u001b[0m\u001b[0;34m]\u001b[0m\u001b[0;34m\u001b[0m\u001b[0;34m\u001b[0m\u001b[0m\n\u001b[0m",
            "\u001b[0;31mNameError\u001b[0m: name 'face_nic' is not defined"
          ]
        }
      ]
    },
    {
      "cell_type": "code",
      "source": [
        "faces ="
      ],
      "metadata": {
        "id": "Kwnc0HBn5X0B"
      },
      "execution_count": null,
      "outputs": []
    },
    {
      "cell_type": "code",
      "source": [
        "f_list = []"
      ],
      "metadata": {
        "id": "oh3U7PDLmoZG"
      },
      "execution_count": 76,
      "outputs": []
    },
    {
      "cell_type": "code",
      "source": [
        "faces = sorted(faces, key=)"
      ],
      "metadata": {
        "colab": {
          "base_uri": "https://localhost:8080/",
          "height": 159
        },
        "id": "Gpb5_WV600sH",
        "outputId": "a0bdc7be-9137-447d-81f2-8a2f775bc49d"
      },
      "execution_count": 77,
      "outputs": [
        {
          "output_type": "error",
          "ename": "KeyboardInterrupt",
          "evalue": "",
          "traceback": [
            "\u001b[0;31m---------------------------------------------------------------------------\u001b[0m",
            "\u001b[0;31mKeyboardInterrupt\u001b[0m                         Traceback (most recent call last)",
            "\u001b[0;32m<ipython-input-77-68d27b7bb960>\u001b[0m in \u001b[0;36m<cell line: 1>\u001b[0;34m()\u001b[0m\n\u001b[1;32m      1\u001b[0m \u001b[0;32mwhile\u001b[0m \u001b[0;32mTrue\u001b[0m\u001b[0;34m:\u001b[0m\u001b[0;34m\u001b[0m\u001b[0;34m\u001b[0m\u001b[0m\n\u001b[0;32m----> 2\u001b[0;31m   \u001b[0mret\u001b[0m\u001b[0;34m,\u001b[0m \u001b[0mcap\u001b[0m\u001b[0;34m.\u001b[0m\u001b[0mread\u001b[0m\u001b[0;34m(\u001b[0m\u001b[0;34m)\u001b[0m\u001b[0;34m\u001b[0m\u001b[0;34m\u001b[0m\u001b[0m\n\u001b[0m",
            "\u001b[0;31mKeyboardInterrupt\u001b[0m: "
          ]
        }
      ]
    },
    {
      "cell_type": "code",
      "source": [
        "if len(faces) == 1:\n",
        "  faces = 0"
      ],
      "metadata": {
        "colab": {
          "base_uri": "https://localhost:8080/",
          "height": 159
        },
        "id": "NJTcwizh_JBW",
        "outputId": "7996658d-a03a-4dc1-aa06-28dd4a7849eb"
      },
      "execution_count": 98,
      "outputs": [
        {
          "output_type": "error",
          "ename": "NameError",
          "evalue": "name 'faces' is not defined",
          "traceback": [
            "\u001b[0;31m---------------------------------------------------------------------------\u001b[0m",
            "\u001b[0;31mNameError\u001b[0m                                 Traceback (most recent call last)",
            "\u001b[0;32m<ipython-input-98-abfb9e108ea7>\u001b[0m in \u001b[0;36m<cell line: 1>\u001b[0;34m()\u001b[0m\n\u001b[0;32m----> 1\u001b[0;31m \u001b[0;32mif\u001b[0m \u001b[0mlen\u001b[0m\u001b[0;34m(\u001b[0m\u001b[0mfaces\u001b[0m\u001b[0;34m)\u001b[0m \u001b[0;34m==\u001b[0m \u001b[0;36m1\u001b[0m\u001b[0;34m:\u001b[0m\u001b[0;34m\u001b[0m\u001b[0;34m\u001b[0m\u001b[0m\n\u001b[0m\u001b[1;32m      2\u001b[0m   \u001b[0mfaces\u001b[0m \u001b[0;34m=\u001b[0m \u001b[0;36m0\u001b[0m\u001b[0;34m\u001b[0m\u001b[0;34m\u001b[0m\u001b[0m\n",
            "\u001b[0;31mNameError\u001b[0m: name 'faces' is not defined"
          ]
        }
      ]
    }
  ]
}